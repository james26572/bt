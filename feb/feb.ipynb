{
 "cells": [
  {
   "cell_type": "code",
   "execution_count": 57,
   "metadata": {},
   "outputs": [],
   "source": [
    "import pandas as pd \n",
    "import numpy as np\n",
    "import matplotlib.pyplot as plt"
   ]
  },
  {
   "cell_type": "code",
   "execution_count": 58,
   "metadata": {},
   "outputs": [],
   "source": [
    "rain_cork_df = pd.read_csv('C:/Users/buckl/dev/Anna-BT-Project-Data-Analysis/bt/feb/February rainfall Cork.csv')\n",
    "rain_dub_df = pd.read_csv('C:/Users/buckl/dev/Anna-BT-Project-Data-Analysis/bt/feb/February rainfall Dublin.csv')\n",
    "rain_don_df = pd.read_csv('C:/Users/buckl/dev/Anna-BT-Project-Data-Analysis/bt/feb/February rainfall Donegal.csv')\n",
    "rain_gal_df = pd.read_csv('C:/Users/buckl/dev/Anna-BT-Project-Data-Analysis/bt/feb/February rainfall Galway.csv')\n"
   ]
  },
  {
   "cell_type": "code",
   "execution_count": 59,
   "metadata": {},
   "outputs": [],
   "source": [
    "grain_df = pd.read_csv('C:/Users/buckl/dev/Anna-BT-Project-Data-Analysis/bt/feb/grain data.csv')\n",
    "hay_df = pd.read_csv('C:/Users/buckl/dev/Anna-BT-Project-Data-Analysis/bt/feb/hay data (1).csv')"
   ]
  },
  {
   "cell_type": "code",
   "execution_count": 60,
   "metadata": {},
   "outputs": [],
   "source": [
    "rain_cork_df.fillna(0,inplace=True)\n",
    "rain_dub_df.fillna(0,inplace=True)\n",
    "rain_don_df.fillna(0,inplace=True)\n",
    "rain_gal_df.fillna(0,inplace=True)"
   ]
  },
  {
   "cell_type": "code",
   "execution_count": 61,
   "metadata": {},
   "outputs": [],
   "source": [
    "rain_cork_df = rain_cork_df.drop(['Day','2024'],axis=1).sum(axis=0)\n",
    "rain_dub_df = rain_dub_df.drop(['Day','2024'],axis=1).sum(axis=0)\n",
    "rain_don_df = rain_don_df.drop(['Day','2024'],axis=1).sum(axis=0)\n",
    "rain_gal_df = rain_gal_df.drop(['Day','2024'],axis=1).sum(axis=0)"
   ]
  },
  {
   "cell_type": "code",
   "execution_count": 62,
   "metadata": {},
   "outputs": [
    {
     "data": {
      "text/plain": [
       "2023     25.133333\n",
       "2022    134.800000\n",
       "2021    128.366667\n",
       "2020    212.600000\n",
       "2019     71.266667\n",
       "2018     56.800000\n",
       "2017     80.900000\n",
       "2016    119.166667\n",
       "2015     71.533333\n",
       "2014    180.366667\n",
       "2013     61.933333\n",
       "2012     44.366667\n",
       "2011    116.333333\n",
       "2010     49.433333\n",
       "2009     38.366667\n",
       "2008     56.500000\n",
       "2007     95.800000\n",
       "2006     46.466667\n",
       "2005     47.800000\n",
       "2004     55.800000\n",
       "2003     60.833333\n",
       "2002    165.866667\n",
       "2001     81.166667\n",
       "2000    101.166667\n",
       "1999     58.966667\n",
       "1998     11.433333\n",
       "1997    131.110000\n",
       "1996     66.000000\n",
       "1995    147.933333\n",
       "1994    149.166667\n",
       "1993     28.266667\n",
       "1992     72.266667\n",
       "1991     77.300000\n",
       "1990    193.200000\n",
       "1989    101.466667\n",
       "1988     91.166667\n",
       "1987     80.133333\n",
       "1986      6.966667\n",
       "1985     68.433333\n",
       "dtype: float64"
      ]
     },
     "execution_count": 62,
     "metadata": {},
     "output_type": "execute_result"
    }
   ],
   "source": [
    "rain_data = {\n",
    "    'Cork': rain_cork_df,\n",
    "    'Dublin': rain_dub_df,\n",
    "    'Donegal': rain_don_df,\n",
    "    \n",
    "}\n",
    "\n",
    "\n",
    "rain_combined = pd.DataFrame(rain_data)\n",
    "\n",
    "\n",
    "rain_df = rain_combined.mean(axis=1)\n",
    "rain_df"
   ]
  },
  {
   "cell_type": "code",
   "execution_count": 63,
   "metadata": {},
   "outputs": [
    {
     "data": {
      "text/plain": [
       "<matplotlib.collections.PathCollection at 0x15bd8e4c1c0>"
      ]
     },
     "execution_count": 63,
     "metadata": {},
     "output_type": "execute_result"
    },
    {
     "data": {
      "image/png": "[encoded data removed]",
      "text/plain": [
       "<Figure size 432x288 with 1 Axes>"
      ]
     },
     "metadata": {
      "needs_background": "light"
     },
     "output_type": "display_data"
    }
   ],
   "source": [
    "plt.scatter(rain_df.values,hay_df['tonnes of hay'])"
   ]
  },
  {
   "cell_type": "code",
   "execution_count": 64,
   "metadata": {},
   "outputs": [
    {
     "data": {
      "text/plain": [
       "<matplotlib.collections.PathCollection at 0x15bd8eba7c0>"
      ]
     },
     "execution_count": 64,
     "metadata": {},
     "output_type": "execute_result"
    },
    {
     "data": {
      "image/png": "[encoded data removed]",
      "text/plain": [
       "<Figure size 432x288 with 1 Axes>"
      ]
     },
     "metadata": {
      "needs_background": "light"
     },
     "output_type": "display_data"
    }
   ],
   "source": [
    "plt.scatter(rain_df.values,grain_df['grain'])"
   ]
  }
 ],
 "metadata": {
  "kernelspec": {
   "display_name": "base",
   "language": "python",
   "name": "python3"
  },
  "language_info": {
   "codemirror_mode": {
    "name": "ipython",
    "version": 3
   },
   "file_extension": ".py",
   "mimetype": "text/x-python",
   "name": "python",
   "nbconvert_exporter": "python",
   "pygments_lexer": "ipython3",
   "version": "3.9.7"
  }
 },
 "nbformat": 4,
 "nbformat_minor": 2
}
